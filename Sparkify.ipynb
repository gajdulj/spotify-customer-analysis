{
 "cells": [
  {
   "cell_type": "markdown",
   "metadata": {},
   "source": [
    "# Sparkify Project Workspace"
   ]
  },
  {
   "cell_type": "markdown",
   "metadata": {},
   "source": [
    "<b>Tasks:</b>\n",
    "* Predict churn of customers measured by Cancellation Confirmation page visit"
   ]
  },
  {
   "cell_type": "code",
   "execution_count": 1,
   "metadata": {},
   "outputs": [],
   "source": [
    "import os\n",
    "import pandas as pd\n",
    "import numpy as np\n",
    "import pandas as pd\n",
    "from pandas_profiling import ProfileReport\n",
    "from hyperopt import hp, tpe\n",
    "from hyperopt.fmin import fmin\n",
    "import xgboost as xgb\n",
    "from sklearn.model_selection import train_test_split, cross_val_score, StratifiedKFold\n",
    "import sklearn.metrics\n",
    "from sklearn.metrics import f1_score, classification_report\n",
    "from sklearn.ensemble import RandomForestClassifier\n",
    "import seaborn as sns\n",
    "import matplotlib.pyplot as plt\n",
    "from sklearn.preprocessing import LabelEncoder"
   ]
  },
  {
   "cell_type": "code",
   "execution_count": 2,
   "metadata": {},
   "outputs": [
    {
     "data": {
      "text/plain": [
       "['user_aggregated_data.html',\n",
       " 'README.md',\n",
       " 'mini_sparkify_event_data.json',\n",
       " 'Sparkify.ipynb',\n",
       " '.gitignore',\n",
       " '.ipynb_checkpoints',\n",
       " '.git',\n",
       " 'EDA_report.html']"
      ]
     },
     "execution_count": 2,
     "metadata": {},
     "output_type": "execute_result"
    }
   ],
   "source": [
    "os.listdir()"
   ]
  },
  {
   "cell_type": "code",
   "execution_count": 3,
   "metadata": {},
   "outputs": [],
   "source": [
    "def load_user_data():\n",
    "    \"\"\"\n",
    "    function to load and preprocess the dataset.\n",
    "    1. convert column names to lowercase\n",
    "    2. remove rows not connected to any users\n",
    "    3. remove empty user id records.\n",
    "    \"\"\"\n",
    "    df = pd.read_json('mini_sparkify_event_data.json',lines=True)\n",
    "    df.columns = [col.lower() for col in df.columns]\n",
    "    df = df.loc[df['userid'].notna()]\n",
    "    df = df[~(df['userid']==\"\")]\n",
    "    return df\n",
    "    \n",
    "def generate_eda_report(df, report_name):\n",
    "    # generate EDA report if it doesen't exist\n",
    "    if os.path.exists(f'./{report_name}'):\n",
    "        print(\"EDA report already in the folder.\")\n",
    "    else:\n",
    "        print(\"Generating EDA report...\")\n",
    "        profile = ProfileReport(df, title=\"Pandas Profiling Report\")\n",
    "        profile.to_file(report_name)\n",
    "        print(\"EDA report saved.\")\n",
    "\n",
    "def convert_dates(df,date_columns):\n",
    "    #convert unix timestamps to pandas datetime format\n",
    "    for col in date_columns:\n",
    "        df[col] = pd.to_datetime(df[col],unit='ms')\n",
    "        \n",
    "def get_dates_range(df):\n",
    "    # get an idea on the date range of the dataset\n",
    "    date_min = df['ts'].min()\n",
    "    date_max = df['ts'].max()\n",
    "    return date_min, date_max\n",
    "\n",
    "def add_interaction_features(df):\n",
    "    \"\"\"\n",
    "    Use this instead of one hot encoding to avoid adding useless features and possible data leakage.\n",
    "    \"\"\"\n",
    "    df['song_played'] = df['page'] == 'NextSong'\n",
    "    df['add_playlist'] = df['page'] == 'Add to Playlist'\n",
    "    df['thumbed_up'] = df['page'] == 'Thumbs Up'\n",
    "    df['thumbed_down'] = df['page'] == 'Thumbs Down'\n",
    "    df['added_friend'] = df['page'] == 'Add Friend'\n",
    "    df['once_premium'] = df['level'] == 'paid'\n",
    "    # Target variable. Note that cancellation refers to premium and free accounts.\n",
    "    df['cancelled'] = df['page'] == 'Cancellation Confirmation'\n",
    "    df['redirected'] = df['status']==307\n",
    "    df['error'] = df['status']==404\n",
    "    \n",
    "    \n",
    "def add_user_features(df): \n",
    "    \"\"\"\n",
    "    Get user list with interaction based features.\n",
    "    \"\"\"\n",
    "    users = df.groupby('userid').agg(\n",
    "    {'userid': [('user_id','max')],\n",
    "     'page': [('page_count', 'count')], \n",
    "     'registration': [('registration_date','max')],\n",
    "     'ts': [('last_interaction','max')],\n",
    "     'song_played': [('songs_played', 'sum')],\n",
    "     'add_playlist': [('songs_playlisted', 'sum')],\n",
    "     'thumbed_up': [('thumbed_up', 'sum')],\n",
    "     'thumbed_down': [('thumbed_down', 'sum')],\n",
    "     'added_friend': [('added_friends', 'sum')],\n",
    "     'cancelled': [('cancelled', 'max')], \n",
    "     'once_premium': [('once_premium', 'max')],\n",
    "     'location': [('top_location', pd.Series.mode)],\n",
    "     'gender': [('user_gender',pd.Series.mode)],\n",
    "     'error': [('error_count', 'count')],\n",
    "     'redirected': [('redirect_count', 'count')]\n",
    "    })\n",
    "    \n",
    "    users.columns = users.columns.droplevel()\n",
    "    users = users.reset_index(drop=True)\n",
    "\n",
    "    users['days_active'] = (users['last_interaction'] - users['registration_date']).dt.days\n",
    "    users[\"cancelled\"] = users[\"cancelled\"].astype(int)\n",
    "    users[\"once_premium\"] = users[\"once_premium\"].astype(int)\n",
    "    return users\n",
    "\n",
    "def add_session_features(df):\n",
    "    \"\"\"\n",
    "    Get features from every session for every user.\n",
    "    Average time spent on each session and number of sessions.\n",
    "    \"\"\"\n",
    "    sessions = df.groupby(['userid','sessionid'],as_index=False).agg(\n",
    "    {'ts': [np.min,np.max]\n",
    "    })\n",
    "    sessions.columns = ['userid','sessionid','tmin','tmax']\n",
    "    sessions['session_length'] = sessions['tmax']-sessions['tmin']\n",
    "    sessions['time_minutes'] = sessions['session_length'] // np.timedelta64(1, 'm')\n",
    "\n",
    "    user_sessions = sessions.groupby('userid').agg(\n",
    "        {'time_minutes': [('time_mean',np.mean)],\n",
    "         'sessionid': [('session_count', 'count')],\n",
    "        })\n",
    "\n",
    "    user_sessions.columns = ['time_mean','session_count']\n",
    "    user_sessions = user_sessions.reset_index(drop=False)\n",
    "    user_sessions['time_mean']= user_sessions['time_mean'].astype(int)\n",
    "    return user_sessions\n",
    "\n",
    "    \n",
    "def add_ndays_features(df,n_days): \n",
    "    \"\"\"\n",
    "     Get user list with interaction based features.\n",
    "     Will be used in last_n_days function.\n",
    "    \"\"\"\n",
    "    users = df.groupby('userid').agg(\n",
    "    {'userid': [('user_id','max')],\n",
    "    'song_played': [(f'{n_days}d_songs_played', 'sum')],\n",
    "     'add_playlist': [(f'{n_days}d_songs_playlisted', 'sum')],\n",
    "     'thumbed_up': [(f'{n_days}d_thumbed_up', 'sum')],\n",
    "     'thumbed_down': [(f'{n_days}d_thumbed_down', 'sum')],\n",
    "     'added_friend': [(f'{n_days}d_added_friends', 'sum')]\n",
    "     })\n",
    "    users.columns = users.columns.droplevel()\n",
    "    users = users.reset_index(drop=True)\n",
    "    return users\n",
    "\n",
    "def add_latest_interaction(df,users):\n",
    "    \"\"\" \n",
    "    get the time of last interaction for each user\n",
    "    \"\"\"\n",
    "    user_last_interaction = users[['user_id','last_interaction']]\n",
    "    df = df.merge(user_last_interaction, left_on='userid', right_on='user_id').drop('user_id',axis=1)\n",
    "    df['timedelta'] = (df['ts'] - df['last_interaction']).dt.days\n",
    "    return df\n",
    "\n",
    "def last_n_days(df,n_days):\n",
    "    \"\"\"\n",
    "    filter the dataset to last n_days and obtain features sepcified in add_ndays_features function.\n",
    "    \"\"\"\n",
    "    df_filtered = df.loc[df['timedelta']>=(-n_days)]\n",
    "    df_filtered = add_ndays_features(df_filtered ,n_days)\n",
    "    return df_filtered\n",
    "\n",
    "def merge_ndays_features(users_table, feat_tables):\n",
    "    \"\"\"\n",
    "    Merge the n_days tables with the main users table\n",
    "    \"\"\"\n",
    "    for table in feat_tables:\n",
    "        users_table = users_table.merge(table, left_on='user_id', right_on='user_id',\n",
    "                         how='left', suffixes=('', '_y'))\n",
    "        users_table.drop(users_table.filter(regex='_y$').columns.tolist(),axis=1, inplace=True)\n",
    "    return users_table\n",
    "\n",
    "def hyperopt_tuning(X,y):\n",
    "    \"\"\"\n",
    "    Tune the hyperparameters of the xgboost model.\n",
    "    evaluates optimum of max_depth, colsample_bytree and gamma.\n",
    "    \"\"\"\n",
    "    def objective(params):\n",
    "        params = {\n",
    "            'max_depth': int(params['max_depth']),\n",
    "            'gamma': \"{:.3f}\".format(params['gamma']),\n",
    "            'colsample_bytree': '{:.3f}'.format(params['colsample_bytree']),\n",
    "            'min_child_weight': '{:.3f}'.format(params['min_child_weight']),\n",
    "            'subsample': '{:.3f}'.format(params['subsample']),\n",
    "            'gamma': '{:.3f}'.format(params['gamma']),\n",
    "        }\n",
    "\n",
    "        clf = xgb.XGBClassifier(\n",
    "            n_estimators=250,\n",
    "            learning_rate = 0.2,\n",
    "            n_jobs=4,\n",
    "            **params\n",
    "        )\n",
    "\n",
    "        score = cross_val_score(clf, X, y, scoring=\"roc_auc\", cv=StratifiedKFold()).mean()\n",
    "        print(\"Score: {:.3f} params {}\".format(score, params))\n",
    "        return score\n",
    "\n",
    "    space = {\n",
    "        'max_depth': hp.quniform('max_depth', 5, 16, 1),\n",
    "        'colsample_bytree': hp.uniform('colsample_bytree', 0.3, 1.0),\n",
    "        'min_child_weight': hp.choice('min_child_weight', np.arange(1, 8, 1, dtype=int)),\n",
    "        'subsample':        hp.uniform('subsample', 0.8, 1),\n",
    "        'gamma': hp.uniform('gamma', 0.0, 0.5)\n",
    "    }\n",
    "\n",
    "    best = fmin(fn=objective,\n",
    "                space=space,\n",
    "                algo=tpe.suggest,\n",
    "                max_evals=25)\n",
    "    return best"
   ]
  },
  {
   "cell_type": "markdown",
   "metadata": {},
   "source": [
    "# Data Load & automated EDA"
   ]
  },
  {
   "cell_type": "code",
   "execution_count": 4,
   "metadata": {},
   "outputs": [
    {
     "name": "stdout",
     "output_type": "stream",
     "text": [
      "EDA report already in the folder.\n",
      "Dataset interactions date range: 63 days 01:09:19\n"
     ]
    }
   ],
   "source": [
    "# Load user data\n",
    "df = load_user_data()\n",
    "\n",
    "# Save automated EDA report to current directory.\n",
    "# Report identified empty user ids that were already cleaned in load_user_data function.\n",
    "generate_eda_report(df,report_name='EDA_report.html')\n",
    "\n",
    "# Convert unix timestamps to pandas datetime format\n",
    "convert_dates(df,date_columns=['ts','registration'])\n",
    "\n",
    "# Drop unncessary columns\n",
    "df = df.drop(['auth','method','useragent','lastname','firstname','song'], axis=1)\n",
    "\n",
    "# Get date range of the dataset\n",
    "date_min, date_max= get_dates_range(df)\n",
    "print(f\"Dataset interactions date range: {date_max-date_min}\")"
   ]
  },
  {
   "cell_type": "markdown",
   "metadata": {},
   "source": [
    "# Manual EDA"
   ]
  },
  {
   "cell_type": "code",
   "execution_count": 5,
   "metadata": {},
   "outputs": [
    {
     "name": "stdout",
     "output_type": "stream",
     "text": [
      "<class 'pandas.core.frame.DataFrame'>\n",
      "Int64Index: 278154 entries, 0 to 286499\n",
      "Data columns (total 12 columns):\n",
      "ts               278154 non-null datetime64[ns]\n",
      "userid           278154 non-null object\n",
      "sessionid        278154 non-null int64\n",
      "page             278154 non-null object\n",
      "status           278154 non-null int64\n",
      "level            278154 non-null object\n",
      "iteminsession    278154 non-null int64\n",
      "location         278154 non-null object\n",
      "registration     278154 non-null datetime64[ns]\n",
      "gender           278154 non-null object\n",
      "artist           228108 non-null object\n",
      "length           228108 non-null float64\n",
      "dtypes: datetime64[ns](2), float64(1), int64(3), object(6)\n",
      "memory usage: 27.6+ MB\n"
     ]
    }
   ],
   "source": [
    "df.info()"
   ]
  },
  {
   "cell_type": "code",
   "execution_count": 6,
   "metadata": {},
   "outputs": [
    {
     "data": {
      "text/html": [
       "<div>\n",
       "<style scoped>\n",
       "    .dataframe tbody tr th:only-of-type {\n",
       "        vertical-align: middle;\n",
       "    }\n",
       "\n",
       "    .dataframe tbody tr th {\n",
       "        vertical-align: top;\n",
       "    }\n",
       "\n",
       "    .dataframe thead th {\n",
       "        text-align: right;\n",
       "    }\n",
       "</style>\n",
       "<table border=\"1\" class=\"dataframe\">\n",
       "  <thead>\n",
       "    <tr style=\"text-align: right;\">\n",
       "      <th></th>\n",
       "      <th>ts</th>\n",
       "      <th>userid</th>\n",
       "      <th>sessionid</th>\n",
       "      <th>page</th>\n",
       "      <th>status</th>\n",
       "      <th>level</th>\n",
       "      <th>iteminsession</th>\n",
       "      <th>location</th>\n",
       "      <th>registration</th>\n",
       "      <th>gender</th>\n",
       "      <th>artist</th>\n",
       "      <th>length</th>\n",
       "    </tr>\n",
       "  </thead>\n",
       "  <tbody>\n",
       "    <tr>\n",
       "      <th>0</th>\n",
       "      <td>2018-10-01 00:01:57</td>\n",
       "      <td>30</td>\n",
       "      <td>29</td>\n",
       "      <td>NextSong</td>\n",
       "      <td>200</td>\n",
       "      <td>paid</td>\n",
       "      <td>50</td>\n",
       "      <td>Bakersfield, CA</td>\n",
       "      <td>2018-09-28 22:22:42</td>\n",
       "      <td>M</td>\n",
       "      <td>Martha Tilston</td>\n",
       "      <td>277.89016</td>\n",
       "    </tr>\n",
       "    <tr>\n",
       "      <th>1</th>\n",
       "      <td>2018-10-01 00:03:00</td>\n",
       "      <td>9</td>\n",
       "      <td>8</td>\n",
       "      <td>NextSong</td>\n",
       "      <td>200</td>\n",
       "      <td>free</td>\n",
       "      <td>79</td>\n",
       "      <td>Boston-Cambridge-Newton, MA-NH</td>\n",
       "      <td>2018-09-30 18:20:30</td>\n",
       "      <td>M</td>\n",
       "      <td>Five Iron Frenzy</td>\n",
       "      <td>236.09424</td>\n",
       "    </tr>\n",
       "    <tr>\n",
       "      <th>2</th>\n",
       "      <td>2018-10-01 00:06:34</td>\n",
       "      <td>30</td>\n",
       "      <td>29</td>\n",
       "      <td>NextSong</td>\n",
       "      <td>200</td>\n",
       "      <td>paid</td>\n",
       "      <td>51</td>\n",
       "      <td>Bakersfield, CA</td>\n",
       "      <td>2018-09-28 22:22:42</td>\n",
       "      <td>M</td>\n",
       "      <td>Adam Lambert</td>\n",
       "      <td>282.82730</td>\n",
       "    </tr>\n",
       "  </tbody>\n",
       "</table>\n",
       "</div>"
      ],
      "text/plain": [
       "                   ts userid  sessionid      page  status level  \\\n",
       "0 2018-10-01 00:01:57     30         29  NextSong     200  paid   \n",
       "1 2018-10-01 00:03:00      9          8  NextSong     200  free   \n",
       "2 2018-10-01 00:06:34     30         29  NextSong     200  paid   \n",
       "\n",
       "   iteminsession                        location        registration gender  \\\n",
       "0             50                 Bakersfield, CA 2018-09-28 22:22:42      M   \n",
       "1             79  Boston-Cambridge-Newton, MA-NH 2018-09-30 18:20:30      M   \n",
       "2             51                 Bakersfield, CA 2018-09-28 22:22:42      M   \n",
       "\n",
       "             artist     length  \n",
       "0    Martha Tilston  277.89016  \n",
       "1  Five Iron Frenzy  236.09424  \n",
       "2      Adam Lambert  282.82730  "
      ]
     },
     "execution_count": 6,
     "metadata": {},
     "output_type": "execute_result"
    }
   ],
   "source": [
    "df.head(3)"
   ]
  },
  {
   "cell_type": "code",
   "execution_count": 7,
   "metadata": {},
   "outputs": [
    {
     "data": {
      "text/html": [
       "<div>\n",
       "<style scoped>\n",
       "    .dataframe tbody tr th:only-of-type {\n",
       "        vertical-align: middle;\n",
       "    }\n",
       "\n",
       "    .dataframe tbody tr th {\n",
       "        vertical-align: top;\n",
       "    }\n",
       "\n",
       "    .dataframe thead th {\n",
       "        text-align: right;\n",
       "    }\n",
       "</style>\n",
       "<table border=\"1\" class=\"dataframe\">\n",
       "  <thead>\n",
       "    <tr style=\"text-align: right;\">\n",
       "      <th></th>\n",
       "      <th>ts</th>\n",
       "      <th>userid</th>\n",
       "      <th>sessionid</th>\n",
       "      <th>page</th>\n",
       "      <th>status</th>\n",
       "      <th>level</th>\n",
       "      <th>iteminsession</th>\n",
       "      <th>location</th>\n",
       "      <th>registration</th>\n",
       "      <th>gender</th>\n",
       "      <th>artist</th>\n",
       "      <th>length</th>\n",
       "    </tr>\n",
       "  </thead>\n",
       "  <tbody>\n",
       "    <tr>\n",
       "      <th>0</th>\n",
       "      <td>2018-10-01 00:01:57</td>\n",
       "      <td>30</td>\n",
       "      <td>29</td>\n",
       "      <td>NextSong</td>\n",
       "      <td>200</td>\n",
       "      <td>paid</td>\n",
       "      <td>50</td>\n",
       "      <td>8</td>\n",
       "      <td>2018-09-28 22:22:42</td>\n",
       "      <td>1</td>\n",
       "      <td>Martha Tilston</td>\n",
       "      <td>277.89016</td>\n",
       "    </tr>\n",
       "    <tr>\n",
       "      <th>1</th>\n",
       "      <td>2018-10-01 00:03:00</td>\n",
       "      <td>9</td>\n",
       "      <td>8</td>\n",
       "      <td>NextSong</td>\n",
       "      <td>200</td>\n",
       "      <td>free</td>\n",
       "      <td>79</td>\n",
       "      <td>12</td>\n",
       "      <td>2018-09-30 18:20:30</td>\n",
       "      <td>1</td>\n",
       "      <td>Five Iron Frenzy</td>\n",
       "      <td>236.09424</td>\n",
       "    </tr>\n",
       "    <tr>\n",
       "      <th>2</th>\n",
       "      <td>2018-10-01 00:06:34</td>\n",
       "      <td>30</td>\n",
       "      <td>29</td>\n",
       "      <td>NextSong</td>\n",
       "      <td>200</td>\n",
       "      <td>paid</td>\n",
       "      <td>51</td>\n",
       "      <td>8</td>\n",
       "      <td>2018-09-28 22:22:42</td>\n",
       "      <td>1</td>\n",
       "      <td>Adam Lambert</td>\n",
       "      <td>282.82730</td>\n",
       "    </tr>\n",
       "    <tr>\n",
       "      <th>3</th>\n",
       "      <td>2018-10-01 00:06:56</td>\n",
       "      <td>9</td>\n",
       "      <td>8</td>\n",
       "      <td>NextSong</td>\n",
       "      <td>200</td>\n",
       "      <td>free</td>\n",
       "      <td>80</td>\n",
       "      <td>12</td>\n",
       "      <td>2018-09-30 18:20:30</td>\n",
       "      <td>1</td>\n",
       "      <td>Enigma</td>\n",
       "      <td>262.71302</td>\n",
       "    </tr>\n",
       "    <tr>\n",
       "      <th>4</th>\n",
       "      <td>2018-10-01 00:11:16</td>\n",
       "      <td>30</td>\n",
       "      <td>29</td>\n",
       "      <td>NextSong</td>\n",
       "      <td>200</td>\n",
       "      <td>paid</td>\n",
       "      <td>52</td>\n",
       "      <td>8</td>\n",
       "      <td>2018-09-28 22:22:42</td>\n",
       "      <td>1</td>\n",
       "      <td>Daft Punk</td>\n",
       "      <td>223.60771</td>\n",
       "    </tr>\n",
       "  </tbody>\n",
       "</table>\n",
       "</div>"
      ],
      "text/plain": [
       "                   ts userid  sessionid      page  status level  \\\n",
       "0 2018-10-01 00:01:57     30         29  NextSong     200  paid   \n",
       "1 2018-10-01 00:03:00      9          8  NextSong     200  free   \n",
       "2 2018-10-01 00:06:34     30         29  NextSong     200  paid   \n",
       "3 2018-10-01 00:06:56      9          8  NextSong     200  free   \n",
       "4 2018-10-01 00:11:16     30         29  NextSong     200  paid   \n",
       "\n",
       "   iteminsession  location        registration  gender            artist  \\\n",
       "0             50         8 2018-09-28 22:22:42       1    Martha Tilston   \n",
       "1             79        12 2018-09-30 18:20:30       1  Five Iron Frenzy   \n",
       "2             51         8 2018-09-28 22:22:42       1      Adam Lambert   \n",
       "3             80        12 2018-09-30 18:20:30       1            Enigma   \n",
       "4             52         8 2018-09-28 22:22:42       1         Daft Punk   \n",
       "\n",
       "      length  \n",
       "0  277.89016  \n",
       "1  236.09424  \n",
       "2  282.82730  \n",
       "3  262.71302  \n",
       "4  223.60771  "
      ]
     },
     "execution_count": 7,
     "metadata": {},
     "output_type": "execute_result"
    }
   ],
   "source": [
    "# encode categorical features. \n",
    "# To avoid high data sparsity and higher training times, label encoder was used instead of one hot.\n",
    "LE = LabelEncoder()\n",
    "df['location'] = LE.fit_transform(df['location'])\n",
    "# Note that in some of the real life modelling, gender feature can be considered discriminatory and unfair.\n",
    "df['gender'] = LE.fit_transform(df['gender'])\n",
    "df.head(5)"
   ]
  },
  {
   "cell_type": "code",
   "execution_count": 8,
   "metadata": {},
   "outputs": [
    {
     "data": {
      "text/plain": [
       "NextSong                     228108\n",
       "Thumbs Up                     12551\n",
       "Home                          10082\n",
       "Add to Playlist                6526\n",
       "Add Friend                     4277\n",
       "Roll Advert                    3933\n",
       "Logout                         3226\n",
       "Thumbs Down                    2546\n",
       "Downgrade                      2055\n",
       "Settings                       1514\n",
       "Help                           1454\n",
       "Upgrade                         499\n",
       "About                           495\n",
       "Save Settings                   310\n",
       "Error                           252\n",
       "Submit Upgrade                  159\n",
       "Submit Downgrade                 63\n",
       "Cancellation Confirmation        52\n",
       "Cancel                           52\n",
       "Name: page, dtype: int64"
      ]
     },
     "execution_count": 8,
     "metadata": {},
     "output_type": "execute_result"
    }
   ],
   "source": [
    "# list distinct user actions. \n",
    "# This is an important column that will be the main source for feature engineering.\n",
    "df['page'].value_counts()"
   ]
  },
  {
   "cell_type": "markdown",
   "metadata": {},
   "source": [
    "---\n",
    "# Feature Engineering ideas:\n",
    "**activity**\n",
    "* number of interactions with the platform\n",
    "* number of songs played\n",
    "* number of thumbs Up,thumbs down total thumbs up/total songs played\n",
    "* number of friends added\n",
    "* number of songs added to a playlist\n",
    "\n",
    "**time deltas**\n",
    "* days since registration\n",
    "* days since last interaction\n",
    "* dates between registration and last interaction\n",
    "\n",
    "**session features**\n",
    "* average session time\n",
    "* number of sessions\n",
    "\n",
    "**target feature**\n",
    "* Cancellation confirmation"
   ]
  },
  {
   "cell_type": "code",
   "execution_count": 9,
   "metadata": {},
   "outputs": [],
   "source": [
    "# Add features based on 'page' column\n",
    "add_interaction_features(df)"
   ]
  },
  {
   "cell_type": "code",
   "execution_count": 10,
   "metadata": {},
   "outputs": [],
   "source": [
    "# Create a new table with features based on aggregated interactions by userid\n",
    "users = add_user_features(df)"
   ]
  },
  {
   "cell_type": "code",
   "execution_count": 11,
   "metadata": {},
   "outputs": [],
   "source": [
    "# Add latest interaction feature\n",
    "df = add_latest_interaction(df,users)"
   ]
  },
  {
   "cell_type": "code",
   "execution_count": 12,
   "metadata": {},
   "outputs": [],
   "source": [
    "# Filter interactions for specific timeframe\n",
    "last_week = last_n_days(df,7)\n",
    "last_month = last_n_days(df,30)\n",
    "last_threemonths = last_n_days(df,90)\n",
    "\n",
    "# Create a list of tables with time related features\n",
    "feat_tables = [last_week,last_month,last_threemonths]"
   ]
  },
  {
   "cell_type": "code",
   "execution_count": 13,
   "metadata": {},
   "outputs": [],
   "source": [
    "# Join the time related features with the user table\n",
    "users = merge_ndays_features(users, feat_tables)"
   ]
  },
  {
   "cell_type": "code",
   "execution_count": 14,
   "metadata": {},
   "outputs": [],
   "source": [
    "# Add more features based on the aggregate results\n",
    "users['playlisted_ratio'] = users['songs_playlisted']/(users['songs_played']+1)\n",
    "users['thumbed_up_ratio'] = users['thumbed_up']/(users['songs_played']+1)\n",
    "users['thumbed_down_ratio'] = users['thumbed_down']/(users['songs_played']+1)\n",
    "users['songs_per_day'] = users['songs_played']/(users['days_active']+1)\n",
    "users['interactions_per_day'] = users['page_count']/(users['days_active']+1)"
   ]
  },
  {
   "cell_type": "code",
   "execution_count": 15,
   "metadata": {},
   "outputs": [],
   "source": [
    "# Get rid of n/a values\n",
    "users= users.fillna(0)"
   ]
  },
  {
   "cell_type": "code",
   "execution_count": 16,
   "metadata": {},
   "outputs": [],
   "source": [
    "# Adding session related features\n",
    "session_feat = add_session_features(df)\n",
    "\n",
    "users = users.merge(session_feat, left_on='user_id', right_on='userid',\n",
    "                         how='left', suffixes=('', '_y'))\n",
    "\n",
    "users['inter_per_session']= users['page_count']/users['session_count']\n",
    "users['sessions_per_day']= users['session_count']/ users['days_active']"
   ]
  },
  {
   "cell_type": "code",
   "execution_count": 17,
   "metadata": {},
   "outputs": [
    {
     "data": {
      "text/plain": [
       "Index(['user_id', 'page_count', 'registration_date', 'last_interaction',\n",
       "       'songs_played', 'songs_playlisted', 'thumbed_up', 'thumbed_down',\n",
       "       'added_friends', 'cancelled', 'once_premium', 'top_location',\n",
       "       'user_gender', 'error_count', 'redirect_count', 'days_active',\n",
       "       '7d_songs_played', '7d_songs_playlisted', '7d_thumbed_up',\n",
       "       '7d_thumbed_down', '7d_added_friends', '30d_songs_played',\n",
       "       '30d_songs_playlisted', '30d_thumbed_up', '30d_thumbed_down',\n",
       "       '30d_added_friends', '90d_songs_played', '90d_songs_playlisted',\n",
       "       '90d_thumbed_up', '90d_thumbed_down', '90d_added_friends',\n",
       "       'playlisted_ratio', 'thumbed_up_ratio', 'thumbed_down_ratio',\n",
       "       'songs_per_day', 'interactions_per_day', 'userid', 'time_mean',\n",
       "       'session_count', 'inter_per_session', 'sessions_per_day'],\n",
       "      dtype='object')"
      ]
     },
     "execution_count": 17,
     "metadata": {},
     "output_type": "execute_result"
    }
   ],
   "source": [
    "users.columns"
   ]
  },
  {
   "cell_type": "code",
   "execution_count": 18,
   "metadata": {},
   "outputs": [
    {
     "data": {
      "text/html": [
       "<div>\n",
       "<style scoped>\n",
       "    .dataframe tbody tr th:only-of-type {\n",
       "        vertical-align: middle;\n",
       "    }\n",
       "\n",
       "    .dataframe tbody tr th {\n",
       "        vertical-align: top;\n",
       "    }\n",
       "\n",
       "    .dataframe thead th {\n",
       "        text-align: right;\n",
       "    }\n",
       "</style>\n",
       "<table border=\"1\" class=\"dataframe\">\n",
       "  <thead>\n",
       "    <tr style=\"text-align: right;\">\n",
       "      <th></th>\n",
       "      <th>user_id</th>\n",
       "      <th>page_count</th>\n",
       "      <th>registration_date</th>\n",
       "      <th>last_interaction</th>\n",
       "      <th>songs_played</th>\n",
       "      <th>songs_playlisted</th>\n",
       "      <th>thumbed_up</th>\n",
       "      <th>thumbed_down</th>\n",
       "      <th>added_friends</th>\n",
       "      <th>cancelled</th>\n",
       "      <th>...</th>\n",
       "      <th>playlisted_ratio</th>\n",
       "      <th>thumbed_up_ratio</th>\n",
       "      <th>thumbed_down_ratio</th>\n",
       "      <th>songs_per_day</th>\n",
       "      <th>interactions_per_day</th>\n",
       "      <th>userid</th>\n",
       "      <th>time_mean</th>\n",
       "      <th>session_count</th>\n",
       "      <th>inter_per_session</th>\n",
       "      <th>sessions_per_day</th>\n",
       "    </tr>\n",
       "  </thead>\n",
       "  <tbody>\n",
       "    <tr>\n",
       "      <th>0</th>\n",
       "      <td>10</td>\n",
       "      <td>795</td>\n",
       "      <td>2018-09-28 18:31:35</td>\n",
       "      <td>2018-11-19 12:49:48</td>\n",
       "      <td>673.0</td>\n",
       "      <td>9.0</td>\n",
       "      <td>37.0</td>\n",
       "      <td>4.0</td>\n",
       "      <td>12.0</td>\n",
       "      <td>0</td>\n",
       "      <td>...</td>\n",
       "      <td>0.013353</td>\n",
       "      <td>0.054896</td>\n",
       "      <td>0.005935</td>\n",
       "      <td>12.942308</td>\n",
       "      <td>15.288462</td>\n",
       "      <td>10</td>\n",
       "      <td>459</td>\n",
       "      <td>6</td>\n",
       "      <td>132.500000</td>\n",
       "      <td>0.117647</td>\n",
       "    </tr>\n",
       "    <tr>\n",
       "      <th>1</th>\n",
       "      <td>100</td>\n",
       "      <td>3214</td>\n",
       "      <td>2018-09-26 17:17:35</td>\n",
       "      <td>2018-11-30 14:15:49</td>\n",
       "      <td>2682.0</td>\n",
       "      <td>61.0</td>\n",
       "      <td>148.0</td>\n",
       "      <td>27.0</td>\n",
       "      <td>49.0</td>\n",
       "      <td>0</td>\n",
       "      <td>...</td>\n",
       "      <td>0.022736</td>\n",
       "      <td>0.055162</td>\n",
       "      <td>0.010063</td>\n",
       "      <td>41.261538</td>\n",
       "      <td>49.446154</td>\n",
       "      <td>100</td>\n",
       "      <td>316</td>\n",
       "      <td>35</td>\n",
       "      <td>91.828571</td>\n",
       "      <td>0.546875</td>\n",
       "    </tr>\n",
       "    <tr>\n",
       "      <th>2</th>\n",
       "      <td>100001</td>\n",
       "      <td>187</td>\n",
       "      <td>2018-08-18 21:24:26</td>\n",
       "      <td>2018-10-02 16:36:45</td>\n",
       "      <td>133.0</td>\n",
       "      <td>3.0</td>\n",
       "      <td>8.0</td>\n",
       "      <td>2.0</td>\n",
       "      <td>2.0</td>\n",
       "      <td>1</td>\n",
       "      <td>...</td>\n",
       "      <td>0.022388</td>\n",
       "      <td>0.059701</td>\n",
       "      <td>0.014925</td>\n",
       "      <td>2.955556</td>\n",
       "      <td>4.155556</td>\n",
       "      <td>100001</td>\n",
       "      <td>147</td>\n",
       "      <td>4</td>\n",
       "      <td>46.750000</td>\n",
       "      <td>0.090909</td>\n",
       "    </tr>\n",
       "  </tbody>\n",
       "</table>\n",
       "<p>3 rows × 41 columns</p>\n",
       "</div>"
      ],
      "text/plain": [
       "  user_id  page_count   registration_date    last_interaction  songs_played  \\\n",
       "0      10         795 2018-09-28 18:31:35 2018-11-19 12:49:48         673.0   \n",
       "1     100        3214 2018-09-26 17:17:35 2018-11-30 14:15:49        2682.0   \n",
       "2  100001         187 2018-08-18 21:24:26 2018-10-02 16:36:45         133.0   \n",
       "\n",
       "   songs_playlisted  thumbed_up  thumbed_down  added_friends  cancelled  ...  \\\n",
       "0               9.0        37.0           4.0           12.0          0  ...   \n",
       "1              61.0       148.0          27.0           49.0          0  ...   \n",
       "2               3.0         8.0           2.0            2.0          1  ...   \n",
       "\n",
       "   playlisted_ratio  thumbed_up_ratio  thumbed_down_ratio  songs_per_day  \\\n",
       "0          0.013353          0.054896            0.005935      12.942308   \n",
       "1          0.022736          0.055162            0.010063      41.261538   \n",
       "2          0.022388          0.059701            0.014925       2.955556   \n",
       "\n",
       "   interactions_per_day  userid  time_mean  session_count  inter_per_session  \\\n",
       "0             15.288462      10        459              6         132.500000   \n",
       "1             49.446154     100        316             35          91.828571   \n",
       "2              4.155556  100001        147              4          46.750000   \n",
       "\n",
       "   sessions_per_day  \n",
       "0          0.117647  \n",
       "1          0.546875  \n",
       "2          0.090909  \n",
       "\n",
       "[3 rows x 41 columns]"
      ]
     },
     "execution_count": 18,
     "metadata": {},
     "output_type": "execute_result"
    }
   ],
   "source": [
    "users.head(3)"
   ]
  },
  {
   "cell_type": "code",
   "execution_count": 19,
   "metadata": {},
   "outputs": [
    {
     "data": {
      "text/plain": [
       "0    173\n",
       "1     52\n",
       "Name: cancelled, dtype: int64"
      ]
     },
     "execution_count": 19,
     "metadata": {},
     "output_type": "execute_result"
    }
   ],
   "source": [
    "users['cancelled'].value_counts()"
   ]
  },
  {
   "cell_type": "code",
   "execution_count": 20,
   "metadata": {},
   "outputs": [
    {
     "data": {
      "image/png": "[encoded data removed]",
      "text/plain": [
       "<Figure size 576x396 with 1 Axes>"
      ]
     },
     "metadata": {},
     "output_type": "display_data"
    }
   ],
   "source": [
    "# Customer behavior- premium vs not\n",
    "# Note similar proprotion of membership cancellations\n",
    "\n",
    "sns.set(style=\"darkgrid\")\n",
    "ax = sns.countplot(x=\"once_premium\", data=users,hue='cancelled')\n",
    "for p in ax.patches:\n",
    "    height = p.get_height()\n",
    "    ax.text(p.get_x()+p.get_width()/2.,\n",
    "            height + 3,\n",
    "            f'{height}',\n",
    "            ha=\"center\") \n",
    "plt.show()"
   ]
  },
  {
   "cell_type": "code",
   "execution_count": 21,
   "metadata": {},
   "outputs": [
    {
     "data": {
      "text/plain": [
       "(0.36363636363636365, 0.27906976744186046)"
      ]
     },
     "execution_count": 21,
     "metadata": {},
     "output_type": "execute_result"
    }
   ],
   "source": [
    "16/44, 36/129"
   ]
  },
  {
   "cell_type": "code",
   "execution_count": 22,
   "metadata": {},
   "outputs": [],
   "source": [
    "# Limit the analysis to users who subscribed to premium\n",
    "users_premium = users.loc[users['once_premium']==1]\n",
    "\n",
    "# select relevant columns\n",
    "users_final = users_premium[['page_count', 'songs_played','songs_playlisted', 'thumbed_up', 'thumbed_down',\n",
    "       'added_friends','top_location',\n",
    "       'user_gender', 'error_count', 'redirect_count', 'days_active',\n",
    "       '7d_songs_played', '7d_songs_playlisted', '7d_thumbed_up',\n",
    "       '7d_thumbed_down', '7d_added_friends','playlisted_ratio', 'thumbed_up_ratio', 'thumbed_down_ratio',\n",
    "       'songs_per_day', 'interactions_per_day','time_mean',\n",
    "       'session_count','sessions_per_day','cancelled']]"
   ]
  },
  {
   "cell_type": "code",
   "execution_count": 23,
   "metadata": {},
   "outputs": [
    {
     "data": {
      "text/html": [
       "<div>\n",
       "<style scoped>\n",
       "    .dataframe tbody tr th:only-of-type {\n",
       "        vertical-align: middle;\n",
       "    }\n",
       "\n",
       "    .dataframe tbody tr th {\n",
       "        vertical-align: top;\n",
       "    }\n",
       "\n",
       "    .dataframe thead th {\n",
       "        text-align: right;\n",
       "    }\n",
       "</style>\n",
       "<table border=\"1\" class=\"dataframe\">\n",
       "  <thead>\n",
       "    <tr style=\"text-align: right;\">\n",
       "      <th></th>\n",
       "      <th>page_count</th>\n",
       "      <th>songs_played</th>\n",
       "      <th>songs_playlisted</th>\n",
       "      <th>thumbed_up</th>\n",
       "      <th>thumbed_down</th>\n",
       "      <th>added_friends</th>\n",
       "      <th>top_location</th>\n",
       "      <th>user_gender</th>\n",
       "      <th>error_count</th>\n",
       "      <th>redirect_count</th>\n",
       "      <th>...</th>\n",
       "      <th>7d_added_friends</th>\n",
       "      <th>playlisted_ratio</th>\n",
       "      <th>thumbed_up_ratio</th>\n",
       "      <th>thumbed_down_ratio</th>\n",
       "      <th>songs_per_day</th>\n",
       "      <th>interactions_per_day</th>\n",
       "      <th>time_mean</th>\n",
       "      <th>session_count</th>\n",
       "      <th>sessions_per_day</th>\n",
       "      <th>cancelled</th>\n",
       "    </tr>\n",
       "  </thead>\n",
       "  <tbody>\n",
       "    <tr>\n",
       "      <th>0</th>\n",
       "      <td>795</td>\n",
       "      <td>673.0</td>\n",
       "      <td>9.0</td>\n",
       "      <td>37.0</td>\n",
       "      <td>4.0</td>\n",
       "      <td>12.0</td>\n",
       "      <td>51</td>\n",
       "      <td>1</td>\n",
       "      <td>795</td>\n",
       "      <td>795</td>\n",
       "      <td>...</td>\n",
       "      <td>2.0</td>\n",
       "      <td>0.013353</td>\n",
       "      <td>0.054896</td>\n",
       "      <td>0.005935</td>\n",
       "      <td>12.942308</td>\n",
       "      <td>15.288462</td>\n",
       "      <td>459</td>\n",
       "      <td>6</td>\n",
       "      <td>0.117647</td>\n",
       "      <td>0</td>\n",
       "    </tr>\n",
       "    <tr>\n",
       "      <th>1</th>\n",
       "      <td>3214</td>\n",
       "      <td>2682.0</td>\n",
       "      <td>61.0</td>\n",
       "      <td>148.0</td>\n",
       "      <td>27.0</td>\n",
       "      <td>49.0</td>\n",
       "      <td>26</td>\n",
       "      <td>1</td>\n",
       "      <td>3214</td>\n",
       "      <td>3214</td>\n",
       "      <td>...</td>\n",
       "      <td>4.0</td>\n",
       "      <td>0.022736</td>\n",
       "      <td>0.055162</td>\n",
       "      <td>0.010063</td>\n",
       "      <td>41.261538</td>\n",
       "      <td>49.446154</td>\n",
       "      <td>316</td>\n",
       "      <td>35</td>\n",
       "      <td>0.546875</td>\n",
       "      <td>0</td>\n",
       "    </tr>\n",
       "    <tr>\n",
       "      <th>3</th>\n",
       "      <td>218</td>\n",
       "      <td>195.0</td>\n",
       "      <td>5.0</td>\n",
       "      <td>5.0</td>\n",
       "      <td>0.0</td>\n",
       "      <td>1.0</td>\n",
       "      <td>96</td>\n",
       "      <td>0</td>\n",
       "      <td>218</td>\n",
       "      <td>218</td>\n",
       "      <td>...</td>\n",
       "      <td>0.0</td>\n",
       "      <td>0.025510</td>\n",
       "      <td>0.025510</td>\n",
       "      <td>0.000000</td>\n",
       "      <td>1.211180</td>\n",
       "      <td>1.354037</td>\n",
       "      <td>200</td>\n",
       "      <td>4</td>\n",
       "      <td>0.025000</td>\n",
       "      <td>0</td>\n",
       "    </tr>\n",
       "  </tbody>\n",
       "</table>\n",
       "<p>3 rows × 25 columns</p>\n",
       "</div>"
      ],
      "text/plain": [
       "   page_count  songs_played  songs_playlisted  thumbed_up  thumbed_down  \\\n",
       "0         795         673.0               9.0        37.0           4.0   \n",
       "1        3214        2682.0              61.0       148.0          27.0   \n",
       "3         218         195.0               5.0         5.0           0.0   \n",
       "\n",
       "   added_friends  top_location  user_gender  error_count  redirect_count  ...  \\\n",
       "0           12.0            51            1          795             795  ...   \n",
       "1           49.0            26            1         3214            3214  ...   \n",
       "3            1.0            96            0          218             218  ...   \n",
       "\n",
       "   7d_added_friends  playlisted_ratio  thumbed_up_ratio  thumbed_down_ratio  \\\n",
       "0               2.0          0.013353          0.054896            0.005935   \n",
       "1               4.0          0.022736          0.055162            0.010063   \n",
       "3               0.0          0.025510          0.025510            0.000000   \n",
       "\n",
       "   songs_per_day  interactions_per_day  time_mean  session_count  \\\n",
       "0      12.942308             15.288462        459              6   \n",
       "1      41.261538             49.446154        316             35   \n",
       "3       1.211180              1.354037        200              4   \n",
       "\n",
       "   sessions_per_day  cancelled  \n",
       "0          0.117647          0  \n",
       "1          0.546875          0  \n",
       "3          0.025000          0  \n",
       "\n",
       "[3 rows x 25 columns]"
      ]
     },
     "execution_count": 23,
     "metadata": {},
     "output_type": "execute_result"
    }
   ],
   "source": [
    "users_final.head(3)"
   ]
  },
  {
   "cell_type": "code",
   "execution_count": 24,
   "metadata": {},
   "outputs": [
    {
     "name": "stdout",
     "output_type": "stream",
     "text": [
      "EDA report already in the folder.\n"
     ]
    }
   ],
   "source": [
    "generate_eda_report(users_final, 'user_aggregated_data.html')"
   ]
  },
  {
   "cell_type": "code",
   "execution_count": 25,
   "metadata": {},
   "outputs": [],
   "source": [
    "y = users_final['cancelled']\n",
    "X = users_final.drop('cancelled',axis=1)\n",
    "\n",
    "X_train, X_test, y_train, y_test = \\\n",
    "        sklearn.model_selection.train_test_split(X, y, test_size=0.2,random_state=1)"
   ]
  },
  {
   "cell_type": "code",
   "execution_count": 26,
   "metadata": {},
   "outputs": [
    {
     "data": {
      "text/plain": [
       "0    129\n",
       "1     36\n",
       "Name: cancelled, dtype: int64"
      ]
     },
     "execution_count": 26,
     "metadata": {},
     "output_type": "execute_result"
    }
   ],
   "source": [
    "users_final['cancelled'].value_counts()"
   ]
  },
  {
   "cell_type": "code",
   "execution_count": 27,
   "metadata": {},
   "outputs": [
    {
     "data": {
      "image/png": "[encoded data removed]",
      "text/plain": [
       "<Figure size 576x396 with 1 Axes>"
      ]
     },
     "metadata": {},
     "output_type": "display_data"
    }
   ],
   "source": [
    "sns.set(style=\"darkgrid\")\n",
    "ax = sns.countplot(y=\"cancelled\", data=users_final)\n",
    "total = len(users_final)\n",
    "for p in ax.patches:\n",
    "        percentage = '{:.1f}%'.format(100 * p.get_width()/total)\n",
    "        x = p.get_x() + p.get_width() + 0.02\n",
    "        y = p.get_y() + p.get_height()/2\n",
    "        ax.annotate(percentage, (x, y)) \n",
    "plt.show()"
   ]
  },
  {
   "cell_type": "code",
   "execution_count": 28,
   "metadata": {},
   "outputs": [
    {
     "data": {
      "text/plain": [
       "<matplotlib.axes._subplots.AxesSubplot at 0x7ff69c5bb050>"
      ]
     },
     "execution_count": 28,
     "metadata": {},
     "output_type": "execute_result"
    },
    {
     "data": {
      "image/png": "[encoded data removed]",
      "text/plain": [
       "<Figure size 576x396 with 2 Axes>"
      ]
     },
     "metadata": {},
     "output_type": "display_data"
    }
   ],
   "source": [
    "corr = users_final.corr()\n",
    "mask = np.zeros_like(corr)\n",
    "mask[np.triu_indices_from(mask)] = True\n",
    "\n",
    "cmap = sns.diverging_palette(220, 10, as_cmap=True)\n",
    "\n",
    "sns.heatmap(corr, mask=mask, cmap=cmap,vmax=.3,center=0, square=True)"
   ]
  },
  {
   "cell_type": "code",
   "execution_count": 29,
   "metadata": {},
   "outputs": [
    {
     "name": "stdout",
     "output_type": "stream",
     "text": [
      "              precision    recall  f1-score   support\n",
      "\n",
      "           0       0.90      0.93      0.91        28\n",
      "           1       0.50      0.40      0.44         5\n",
      "\n",
      "    accuracy                           0.85        33\n",
      "   macro avg       0.70      0.66      0.68        33\n",
      "weighted avg       0.84      0.85      0.84        33\n",
      "\n"
     ]
    }
   ],
   "source": [
    "clf = RandomForestClassifier(n_estimators=100,random_state=0)\n",
    "clf.fit(X_train, y_train)\n",
    "y_pred = clf.predict(X_test)\n",
    "\n",
    "print(classification_report(y_test, y_pred))"
   ]
  },
  {
   "cell_type": "code",
   "execution_count": 30,
   "metadata": {},
   "outputs": [
    {
     "name": "stdout",
     "output_type": "stream",
     "text": [
      "Score: 0.758 params {'max_depth': 12, 'gamma': '0.317', 'colsample_bytree': '0.575', 'min_child_weight': '5.000', 'subsample': '0.810'}\n",
      "Score: 0.767 params {'max_depth': 9, 'gamma': '0.162', 'colsample_bytree': '0.898', 'min_child_weight': '4.000', 'subsample': '0.973'}\n",
      "Score: 0.753 params {'max_depth': 7, 'gamma': '0.061', 'colsample_bytree': '0.665', 'min_child_weight': '3.000', 'subsample': '0.976'}\n",
      "Score: 0.756 params {'max_depth': 10, 'gamma': '0.002', 'colsample_bytree': '0.440', 'min_child_weight': '3.000', 'subsample': '0.941'}\n",
      "Score: 0.757 params {'max_depth': 12, 'gamma': '0.305', 'colsample_bytree': '0.837', 'min_child_weight': '1.000', 'subsample': '0.952'}\n",
      "Score: 0.763 params {'max_depth': 11, 'gamma': '0.249', 'colsample_bytree': '0.456', 'min_child_weight': '6.000', 'subsample': '0.991'}\n",
      "Score: 0.753 params {'max_depth': 15, 'gamma': '0.287', 'colsample_bytree': '0.815', 'min_child_weight': '5.000', 'subsample': '0.964'}\n",
      "Score: 0.775 params {'max_depth': 13, 'gamma': '0.403', 'colsample_bytree': '0.502', 'min_child_weight': '6.000', 'subsample': '0.981'}\n",
      "Score: 0.764 params {'max_depth': 16, 'gamma': '0.096', 'colsample_bytree': '0.434', 'min_child_weight': '5.000', 'subsample': '0.813'}\n",
      "Score: 0.788 params {'max_depth': 12, 'gamma': '0.264', 'colsample_bytree': '0.890', 'min_child_weight': '6.000', 'subsample': '0.892'}\n",
      "Score: 0.772 params {'max_depth': 10, 'gamma': '0.422', 'colsample_bytree': '0.448', 'min_child_weight': '3.000', 'subsample': '0.990'}\n",
      "Score: 0.767 params {'max_depth': 10, 'gamma': '0.402', 'colsample_bytree': '0.533', 'min_child_weight': '7.000', 'subsample': '0.985'}\n",
      "Score: 0.764 params {'max_depth': 6, 'gamma': '0.379', 'colsample_bytree': '0.616', 'min_child_weight': '2.000', 'subsample': '0.941'}\n",
      "Score: 0.772 params {'max_depth': 14, 'gamma': '0.219', 'colsample_bytree': '0.383', 'min_child_weight': '4.000', 'subsample': '0.973'}\n",
      "Score: 0.777 params {'max_depth': 7, 'gamma': '0.230', 'colsample_bytree': '0.445', 'min_child_weight': '6.000', 'subsample': '0.969'}\n",
      "Score: 0.747 params {'max_depth': 14, 'gamma': '0.055', 'colsample_bytree': '0.682', 'min_child_weight': '1.000', 'subsample': '0.837'}\n",
      "Score: 0.764 params {'max_depth': 12, 'gamma': '0.403', 'colsample_bytree': '0.853', 'min_child_weight': '7.000', 'subsample': '0.896'}\n",
      "Score: 0.772 params {'max_depth': 6, 'gamma': '0.079', 'colsample_bytree': '0.560', 'min_child_weight': '6.000', 'subsample': '0.878'}\n",
      "Score: 0.756 params {'max_depth': 6, 'gamma': '0.102', 'colsample_bytree': '0.726', 'min_child_weight': '2.000', 'subsample': '0.910'}\n",
      "Score: 0.763 params {'max_depth': 5, 'gamma': '0.089', 'colsample_bytree': '0.836', 'min_child_weight': '2.000', 'subsample': '0.997'}\n",
      "Score: 0.748 params {'max_depth': 9, 'gamma': '0.004', 'colsample_bytree': '0.697', 'min_child_weight': '1.000', 'subsample': '0.852'}\n",
      "Score: 0.749 params {'max_depth': 8, 'gamma': '0.004', 'colsample_bytree': '0.974', 'min_child_weight': '1.000', 'subsample': '0.844'}\n",
      "Score: 0.760 params {'max_depth': 15, 'gamma': '0.166', 'colsample_bytree': '0.731', 'min_child_weight': '1.000', 'subsample': '0.844'}\n",
      "Score: 0.737 params {'max_depth': 9, 'gamma': '0.041', 'colsample_bytree': '0.738', 'min_child_weight': '1.000', 'subsample': '0.840'}\n",
      "Score: 0.747 params {'max_depth': 14, 'gamma': '0.151', 'colsample_bytree': '0.771', 'min_child_weight': '1.000', 'subsample': '0.828'}\n",
      "100%|██████████| 25/25 [00:12<00:00,  1.98trial/s, best loss: 0.7373015873015873]\n",
      "Hyperopt estimated optimum {'colsample_bytree': 0.7382664427893235, 'gamma': 0.0406135626075018, 'max_depth': 9.0, 'min_child_weight': 0, 'subsample': 0.8401152133657501}\n"
     ]
    }
   ],
   "source": [
    "best = hyperopt_tuning(X_train,y_train)\n",
    "print(\"Hyperopt estimated optimum {}\".format(best))"
   ]
  },
  {
   "cell_type": "code",
   "execution_count": 31,
   "metadata": {},
   "outputs": [
    {
     "name": "stdout",
     "output_type": "stream",
     "text": [
      "              precision    recall  f1-score   support\n",
      "\n",
      "           0       0.93      0.96      0.95        28\n",
      "           1       0.75      0.60      0.67         5\n",
      "\n",
      "    accuracy                           0.91        33\n",
      "   macro avg       0.84      0.78      0.81        33\n",
      "weighted avg       0.90      0.91      0.90        33\n",
      "\n"
     ]
    }
   ],
   "source": [
    "# Instantiate the model\n",
    "xgb_model = xgb.XGBClassifier(learning_rate=0.05, \n",
    "              n_estimators=200,     \n",
    "                              colsample_bytree= 0.91, \n",
    "                              gamma= 0.25, \n",
    "                              max_depth= 15, \n",
    "                              min_child_weight= 1, \n",
    "              objective='binary:logistic', \n",
    "              random_state=42)\n",
    "\n",
    "# fit model to training data\n",
    "xgb_model.fit(X_train, y_train)\n",
    "y_pred = xgb_model.predict(X_test)\n",
    "\n",
    "print(classification_report(y_test, y_pred))"
   ]
  },
  {
   "cell_type": "code",
   "execution_count": 32,
   "metadata": {},
   "outputs": [
    {
     "data": {
      "text/plain": [
       "<matplotlib.axes._subplots.AxesSubplot at 0x7ff69c60bf90>"
      ]
     },
     "execution_count": 32,
     "metadata": {},
     "output_type": "execute_result"
    },
    {
     "data": {
      "image/png": "[encoded data removed]",
      "text/plain": [
       "<Figure size 576x396 with 1 Axes>"
      ]
     },
     "metadata": {},
     "output_type": "display_data"
    }
   ],
   "source": [
    "feature_important = xgb_model.get_booster().get_score(importance_type='gain')\n",
    "keys = list(feature_important.keys())\n",
    "values = list(feature_important.values())\n",
    "data = pd.DataFrame(data=values, index=keys, columns=[\"score\"]).sort_values(by = \"score\", ascending=False)\n",
    "data.plot(kind='barh')"
   ]
  },
  {
   "cell_type": "code",
   "execution_count": 33,
   "metadata": {},
   "outputs": [
    {
     "name": "stdout",
     "output_type": "stream",
     "text": [
      "True values:\n",
      "[0 0 0 0 0 0 0 0 0 1 0 0 0 1 0 0 0 0 0 1 0 0 0 0 0 0 0 0 0 1 1 0 0]\n",
      "\n",
      "Predicted:\n",
      "[0 0 0 0 0 0 0 0 0 1 0 0 0 1 0 0 0 0 0 0 0 0 0 0 0 0 0 0 0 1 0 1 0]\n"
     ]
    }
   ],
   "source": [
    "# Output visualisation\n",
    "print('True values:')\n",
    "print(np.array(y_test))\n",
    "print()\n",
    "print('Predicted:')\n",
    "print(np.array(y_pred))"
   ]
  }
 ],
 "metadata": {
  "kernelspec": {
   "display_name": "spotify",
   "language": "python",
   "name": "spotify"
  },
  "language_info": {
   "codemirror_mode": {
    "name": "ipython",
    "version": 3
   },
   "file_extension": ".py",
   "mimetype": "text/x-python",
   "name": "python",
   "nbconvert_exporter": "python",
   "pygments_lexer": "ipython3",
   "version": "3.7.7"
  }
 },
 "nbformat": 4,
 "nbformat_minor": 4
}
